{
  "nbformat": 4,
  "nbformat_minor": 0,
  "metadata": {
    "kernelspec": {
      "display_name": "Python 3",
      "language": "python",
      "name": "python3"
    },
    "language_info": {
      "codemirror_mode": {
        "name": "ipython",
        "version": 3
      },
      "file_extension": ".py",
      "mimetype": "text/x-python",
      "name": "python",
      "nbconvert_exporter": "python",
      "pygments_lexer": "ipython3",
      "version": "3.7.7"
    },
    "toc": {
      "base_numbering": 1,
      "nav_menu": {},
      "number_sections": true,
      "sideBar": true,
      "skip_h1_title": false,
      "title_cell": "Table of Contents",
      "title_sidebar": "Contents",
      "toc_cell": false,
      "toc_position": {
        "height": "calc(100% - 180px)",
        "left": "10px",
        "top": "150px",
        "width": "273.188px"
      },
      "toc_section_display": true,
      "toc_window_display": true
    },
    "colab": {
      "name": "Mnist Multilayer NN.ipynb",
      "provenance": [],
      "collapsed_sections": [],
      "toc_visible": true,
      "include_colab_link": true
    }
  },
  "cells": [
    {
      "cell_type": "markdown",
      "metadata": {
        "id": "view-in-github",
        "colab_type": "text"
      },
      "source": [
        "<a href=\"https://colab.research.google.com/github/jagtapuday/Mnist_Model/blob/main/Mnist_Multilayer_NN.ipynb\" target=\"_parent\"><img src=\"https://colab.research.google.com/assets/colab-badge.svg\" alt=\"Open In Colab\"/></a>"
      ]
    },
    {
      "cell_type": "markdown",
      "metadata": {
        "id": "WqkPeKG04mp9"
      },
      "source": [
        "# Multilayer Neural Network(MNIST Dataset)\n",
        "\n",
        "## Import Libraries"
      ]
    },
    {
      "cell_type": "code",
      "metadata": {
        "id": "lDPio5JMAnKW",
        "outputId": "d0a33453-c394-4859-de4b-f3f8a2040dc9",
        "colab": {
          "base_uri": "https://localhost:8080/"
        }
      },
      "source": [
        "from google.colab import drive\n",
        "drive.mount('/content/drive')"
      ],
      "execution_count": 21,
      "outputs": [
        {
          "output_type": "stream",
          "text": [
            "Mounted at /content/drive\n"
          ],
          "name": "stdout"
        }
      ]
    },
    {
      "cell_type": "code",
      "metadata": {
        "id": "ou6PFip74mp_"
      },
      "source": [
        "import os\n",
        "import pandas as pd\n",
        "import numpy as np\n",
        "import matplotlib.pyplot as plt\n",
        "import seaborn as sns\n",
        "%matplotlib inline\n",
        "from sklearn import datasets\n",
        "from sklearn.metrics import accuracy_score,confusion_matrix,classification_report\n",
        "from sklearn.model_selection import train_test_split"
      ],
      "execution_count": 1,
      "outputs": []
    },
    {
      "cell_type": "code",
      "metadata": {
        "id": "pwQC7VIM4mqG"
      },
      "source": [
        "Random_State=2020"
      ],
      "execution_count": 2,
      "outputs": []
    },
    {
      "cell_type": "markdown",
      "metadata": {
        "id": "4SsHlr_z4mqN"
      },
      "source": [
        "## Import Dataset"
      ]
    },
    {
      "cell_type": "code",
      "metadata": {
        "id": "oGJw_GpB4mqO"
      },
      "source": [
        "def Import_Data():\n",
        "    # df=pd.read_csv(\"DNN_fashion_MNIST/fashion-mnist_train.csv\")\n",
        "    train_df=pd.read_csv(\"/content/drive/My Drive/Deep Learning/DNN/DNN_fashion_MNIST/ \\\n",
        "    fashion-mnist_train.csv\",nrows=10000,dtype=np.int32)\n",
        "    return train_df"
      ],
      "execution_count": 97,
      "outputs": []
    },
    {
      "cell_type": "markdown",
      "metadata": {
        "id": "nuNIN9_z4mqU"
      },
      "source": [
        "## Min-Max Scalar Normalization"
      ]
    },
    {
      "cell_type": "code",
      "metadata": {
        "id": "l9e-OK6N4mqV"
      },
      "source": [
        "def Min_Max_Norm(X):\n",
        "    temp=X.values/255\n",
        "    return pd.DataFrame(temp,columns=X.columns)"
      ],
      "execution_count": 4,
      "outputs": []
    },
    {
      "cell_type": "markdown",
      "metadata": {
        "id": "lGF1dZov4mqa"
      },
      "source": [
        "## Train Test Split"
      ]
    },
    {
      "cell_type": "code",
      "metadata": {
        "id": "JEgUbdxa4mqc"
      },
      "source": [
        "def Train_Test(X,y):\n",
        "    X_train,X_test,y_train,y_test= train_test_split(X,y,test_size=0.2,random_state=Random_State)\n",
        "    X_train=X_train.astype(\"float32\")\n",
        "    X_test=X_test.astype(\"float32\")\n",
        "    X_train/=255.0\n",
        "    X_test/=255.0\n",
        "\n",
        "    return X_train,X_test,y_train,y_test"
      ],
      "execution_count": 149,
      "outputs": []
    },
    {
      "cell_type": "markdown",
      "metadata": {
        "id": "eW9yNz3k4mqh"
      },
      "source": [
        "## DataFrame To Store Results"
      ]
    },
    {
      "cell_type": "code",
      "metadata": {
        "id": "f6Dct00B4mqj"
      },
      "source": [
        "Result_df=pd.DataFrame(columns=[\"Dimention of hidden layer\",\"Learning Rate\",\"Regularization\",\"n_Epoch\",\n",
        "                                \"Train_Accuracy\",\"Test Accuracy\",\"Comment\"])"
      ],
      "execution_count": 6,
      "outputs": []
    },
    {
      "cell_type": "code",
      "metadata": {
        "id": "QMscjz3i4mqp"
      },
      "source": [
        "#To store result in the dataframe\n",
        "def Save_Result(hidden_layer,Learning_Rate,Regularization,n_Epoch,Train_Accuracy,Test_Accuracy):\n",
        "    global Result_df\n",
        "    Remark=input(\"Please Enter Remark : \")\n",
        "    result={\"Dimention of hidden layer\":hidden_layer,\"Learning Rate\":Learning_Rate,\n",
        "            \"Regularization\":Regularization,\"n_Epoch\":n_Epoch,\n",
        "                                \"Train_Accuracy\":Train_Accuracy,\n",
        "                                \"Test Accuracy\":Test_Accuracy,\"Comment\":Remark}\n",
        "    Result_df=Result_df.append(result,ignore_index=True)\n",
        "    print(\"Data Saved\")\n",
        "    return True"
      ],
      "execution_count": 7,
      "outputs": []
    },
    {
      "cell_type": "markdown",
      "metadata": {
        "id": "dNdbjntc4mqw"
      },
      "source": [
        "## Visualisation"
      ]
    },
    {
      "cell_type": "code",
      "metadata": {
        "id": "zAPmtt124mqx"
      },
      "source": [
        "def Plot_Data(X):\n",
        "    num = 10\n",
        "    images = X.iloc[:10,1:]\n",
        "    labels = X.iloc[:10,0]\n",
        "    num_row = 2\n",
        "    num_col = 5\n",
        "    # plot images\n",
        "    fig, axes = plt.subplots(num_row, num_col, figsize=(1.5*num_col,2*num_row))\n",
        "    for i in range(num):\n",
        "        img=np.reshape(X.iloc[i,1:].to_list(),(28,28))\n",
        "        ax = axes[i//num_col, i%num_col]\n",
        "        ax.imshow(img, cmap='gray')\n",
        "        ax.set_title('Label: {}'.format(labels[i]))\n",
        "    plt.tight_layout()\n",
        "    plt.show()\n",
        "    return \n",
        "\n",
        "\n",
        "def Show_Loss_Graph(loss):\n",
        "    keys=list(loss.keys())\n",
        "    values=list(loss.values())\n",
        "    plt.xlabel(\"n Epoch\")\n",
        "    plt.ylabel(\"Loss\")\n",
        "    print(\"Starting Loss : \",values[0])\n",
        "    print(\"Ending Loss :\",values[-1])\n",
        "    sns.lineplot(x=keys,y=values)\n",
        "    return "
      ],
      "execution_count": 8,
      "outputs": []
    },
    {
      "cell_type": "markdown",
      "metadata": {
        "id": "cw8ht3dM4mq3"
      },
      "source": [
        "## Predicting results based on model"
      ]
    },
    {
      "cell_type": "code",
      "metadata": {
        "id": "1DJ_yG2p4mq4"
      },
      "source": [
        "def Predict_Result(model,X):\n",
        "    \n",
        "    #Input X \n",
        "    #Model\n",
        "    \n",
        "    W1,B1,W2,B2,W3,B3,W4,B4=model[\"W1\"],model[\"B1\"],model[\"W2\"],model[\"B2\"],model[\"W3\"], \\\n",
        "                            model[\"B3\"],model[\"W4\"],model[\"B4\"]\n",
        "    #Layer 1\n",
        "    Z1=X.dot(W1)+B1\n",
        "    A1=np.tanh(Z1)\n",
        "    \n",
        "    #Layer 2\n",
        "    Z2=A1.dot(W2)+B2\n",
        "    A2=np.tanh(Z2)\n",
        "    \n",
        "    #Layer 3\n",
        "    Z3=A2.dot(W3)+B3\n",
        "    A3=np.tanh(Z3)\n",
        "    \n",
        "    #Layer 4\n",
        "    Z4=A3.dot(W4)+B4\n",
        "    Z4=np.exp(Z4)\n",
        "    proba=Z4/np.sum(Z4,axis=1,keepdims=True)\n",
        "\n",
        "    return np.argmax(proba,axis=1)\n",
        "    "
      ],
      "execution_count": 148,
      "outputs": []
    },
    {
      "cell_type": "markdown",
      "metadata": {
        "id": "tQIuuAJI4mq9"
      },
      "source": [
        "## Calculate Accuracy on whole dataset"
      ]
    },
    {
      "cell_type": "code",
      "metadata": {
        "id": "_xsqBO6N4mq-"
      },
      "source": [
        "def Calculate_Accuracy_Update(model_,X_,y_):\n",
        "    X=X_.copy()\n",
        "    y=y_.copy()\n",
        "    \n",
        "    y_hat=Predict_Result(model_,X)\n",
        "\n",
        "    Accuracy=accuracy_score(y,y_hat)\n",
        "\n",
        "    X=pd.DataFrame(X,columns=features[1:])\n",
        "    X[\"y\"]=y\n",
        "    X[\"y_hat\"]=y_hat\n",
        "    \n",
        "    print(\"Accuracy : \",Accuracy )\n",
        "\n",
        "    print(confusion_matrix(y,y_hat)) \n",
        "\n",
        "    return X,Accuracy"
      ],
      "execution_count": 150,
      "outputs": []
    },
    {
      "cell_type": "markdown",
      "metadata": {
        "id": "iyehKKP64mrI"
      },
      "source": [
        "## Calculate loss on Batch"
      ]
    },
    {
      "cell_type": "code",
      "metadata": {
        "id": "P2ELv3zP4mrJ"
      },
      "source": [
        "def Calculate_Loss_Function(model,X,y):\n",
        "    # Function to calculate loss on whole dataset\n",
        "#     print(y)\n",
        "    W1,B1,W2,B2,W3,B3,W4,B4=model[\"W1\"],model[\"B1\"],model[\"W2\"],model[\"B2\"],model[\"W3\"], \\\n",
        "                            model[\"B3\"],model[\"W4\"],model[\"B4\"]\n",
        "    \n",
        "    #Layer 1\n",
        "    Z1=X.dot(W1)+B1\n",
        "    A1=np.tanh(Z1)\n",
        "    \n",
        "    #Layer 2\n",
        "    Z2=A1.dot(W2)+B2\n",
        "    A2=np.tanh(Z2)\n",
        "    \n",
        "    #Layer 3\n",
        "    Z3=A2.dot(W3)+B3\n",
        "    A3=np.tanh(Z3)\n",
        "    \n",
        "    #Layer 4\n",
        "    Z4=A3.dot(W4)+B4\n",
        "    Z4=np.exp(Z4)\n",
        "    A4=Z4/np.sum(Z4,axis=1,keepdims=True)\n",
        "    \n",
        "    #output Layer -> Softmax\n",
        "    exp_op=np.exp(A4)\n",
        "    \n",
        "    #To calculate probabilities\n",
        "    proba=exp_op/np.sum(exp_op,axis=1,keepdims=True)\n",
        "    \n",
        "    #Calculate Correct loss \n",
        "    y=y.astype(int)\n",
        "    log_proba=-np.log(proba[range(count),y])\n",
        "\n",
        "    loss=np.sum(log_proba)\n",
        "    \n",
        "    #\n",
        "    loss+=(lambda_/2) *(np.sum(np.square(W1))+\n",
        "                        np.sum(np.square(W2))+\n",
        "                        np.sum(np.square(W3))+\n",
        "                        np.sum(np.square(W4)))\n",
        "    loss/=count\n",
        "    return loss"
      ],
      "execution_count": 147,
      "outputs": []
    },
    {
      "cell_type": "markdown",
      "metadata": {
        "id": "9wnraYhY4mrP"
      },
      "source": [
        "## DropOut"
      ]
    },
    {
      "cell_type": "code",
      "metadata": {
        "id": "TImSnaoR4mrQ"
      },
      "source": [
        "def Drop_Out_Forword(Layers,Keep_prob=1):\n",
        "    if Keep_prob>0.0:\n",
        "        Drop_Out_L=np.random.randn(Layers.shape[1],Layers[0])/np.sqrt(Layers[0])\n",
        "        Drop_Out_L=(Drop_Out_L<Keep_prob).astype(np.float)\n",
        "        Layers*=Drop_Out\n",
        "        Layers/=Keep_prob\n",
        "    return Layers,Drop_Out_L\n",
        "def Drop_Out_Backword(Diff_Layers,Drop_Out,Keep_prob=1):\n",
        "    if keep_Prob>0:\n",
        "        Diff_Layers*=Drop_Out\n",
        "        Diff_Layers/=keep_Prob\n",
        "    return Diff_Layers"
      ],
      "execution_count": null,
      "outputs": []
    },
    {
      "cell_type": "markdown",
      "metadata": {
        "id": "KerfCriC4mrV"
      },
      "source": [
        "## Mini Batches"
      ]
    },
    {
      "cell_type": "code",
      "metadata": {
        "id": "V2nwB5Gh4mrW"
      },
      "source": [
        "def Create_Mini_Batches(Batch_Size,X,y):\n",
        "    # print(\"Mini-Batch In\")\n",
        "    y=y.reshape(y.shape[0],1)\n",
        "    Mini_Batches = [] \n",
        "    Data = np.hstack((X, y))\n",
        "    np.random.shuffle(Data) \n",
        "    n_minibatches = Data.shape[0] // Batch_Size \n",
        "    i = 0\n",
        "    for i in range(n_minibatches + 1): \n",
        "        mini_batch = Data[i * Batch_Size:(i + 1)*Batch_Size, :] \n",
        "        X_mini = mini_batch[:, :-1] \n",
        "        Y_mini = mini_batch[:, -1] \n",
        "        # print(X_mini)\n",
        "        # print(Y_mini)\n",
        "        \n",
        "        Mini_Batches.append((X_mini, Y_mini))\n",
        "        # print(\"Batch Created\") \n",
        "    if Data.shape[0] % Batch_Size != 0: \n",
        "        mini_batch = Data[i * Batch_Size:Data.shape[0]] \n",
        "        X_mini = mini_batch[:, :-1] \n",
        "        Y_mini = mini_batch[:, -1] \n",
        "        Mini_Batches.append((X_mini, Y_mini)) \n",
        "    # print(\"Mini-Batch Clear\")\n",
        "    return Mini_Batches "
      ],
      "execution_count": 52,
      "outputs": []
    },
    {
      "cell_type": "markdown",
      "metadata": {
        "id": "OtCNthL44mra"
      },
      "source": [
        "## Train Model"
      ]
    },
    {
      "cell_type": "code",
      "metadata": {
        "id": "WnR4Awei4mrb"
      },
      "source": [
        "def Train_Model(Layers,Model,X,y,Epoch=1000,Batch_Size=32,Print_Loss=False):\n",
        "    \n",
        "    np.random.seed(Random_State)\n",
        "    \n",
        "    if Model==None:\n",
        "        W1=np.random.randn(X.shape[1],Layers[0])/np.sqrt(Layers[0])\n",
        "        B1=np.zeros((1,Layers[0]))\n",
        "        \n",
        "        W2=np.random.randn(Layers[0],Layers[1])/np.sqrt(Layers[1])\n",
        "        B2=np.zeros((1,Layers[1]))\n",
        "        \n",
        "        W3=np.random.randn(Layers[1],Layers[2])/np.sqrt(Layers[2])\n",
        "        B3=np.zeros((1,Layers[2]))\n",
        "        \n",
        "        W4=np.random.randn(Layers[2],Layers[3])/np.sqrt(Layers[3])\n",
        "        B4=np.zeros((1,Layers[3]))\n",
        "        \n",
        "    else : \n",
        "        W1,B1,W2,B2,W3,B3,W4,B4=Model[\"W1\"],model[\"B1\"],model[\"W2\"],model[\"B2\"],model[\"W3\"], \\\n",
        "                            model[\"B3\"],model[\"W4\"],model[\"B4\"]\n",
        "    \n",
        "\n",
        "    assert((X.shape[1],Layers[0])==W1.shape)\n",
        "    \"Shape of X={} does not match with W1={}\".format((X.shape[1],Layers[0]),W1.shape)\n",
        "    Model={}\n",
        "    \n",
        "    for i in range(Epoch):\n",
        "        \n",
        "        \n",
        "        Mini_Batches = Create_Mini_Batches(Batch_Size,X, y)\n",
        "        for mini_batch in Mini_Batches:\n",
        "            Min_X,Min_Y=mini_batch\n",
        "            \n",
        "            if len(Min_X)!=Batch_Size:\n",
        "                break\n",
        "\n",
        "            ########### Forward Propagation ###########\n",
        "            #Layer 1\n",
        "            Z1=Min_X.dot(W1)+B1\n",
        "            A1=np.tanh(Z1)\n",
        "            assert(Z1.shape==A1.shape) ,\"Shape of Z1 and A1 does not match\"\n",
        "\n",
        "            #Layer 2\n",
        "            Z2=A1.dot(W2)+B2\n",
        "            A2=np.tanh(Z2)\n",
        "            assert(Z2.shape==A2.shape) ,\"Shape of Z2 and A2 does not match\"\n",
        "\n",
        "\n",
        "            #Layer 3\n",
        "            Z3=A2.dot(W3)+B3\n",
        "            A3=np.tanh(Z3)\n",
        "            assert(Z3.shape==A3.shape), \"Shape of Z3 and A3 does not match\"\n",
        "\n",
        "\n",
        "            #Layer 4\n",
        "            Z4=A3.dot(W4)+B4\n",
        "            Z4=np.exp(Z4)\n",
        "            proba=Z4/np.sum(Z4,axis=1,keepdims=True)\n",
        "            assert(Z4.shape==proba.shape) ,\"Shape of Z4 and proba does not match\"\n",
        "\n",
        "\n",
        "            ########### Backward Propagation ###########\n",
        "            #Layer 4\n",
        "            dZ4=proba\n",
        "  \n",
        "            Min_Y=Min_Y. astype(int)\n",
        "            dZ4[range(Batch_Size),Min_Y]-=1\n",
        "\n",
        "            dW4=(1/Batch_Size)*(A3.T).dot(dZ4)\n",
        "\n",
        "            assert(dW4.shape==W4.shape) ,\"Shape of dW4={} and W4={} does not match\".format(dW4.shape, W4.shape)\n",
        "\n",
        "            dB4=(1/Batch_Size)*np.sum(dZ4,axis=0,keepdims=True)\n",
        "\n",
        "            #Layer 3\n",
        "            dA3=dZ4.dot(W4.T)\n",
        "\n",
        "            dZ3=dA3*(1-A3**2)\n",
        "\n",
        "            dW3=(1/Batch_Size)*(A2.T).dot(dZ3)\n",
        "            assert(dW3.shape==W3.shape) ,\"Shape of dW3 and W3 does not match\"\n",
        "\n",
        "\n",
        "            dB3=(1/Batch_Size)*np.sum(dZ3,axis=0,keepdims=0)\n",
        "\n",
        "            # Layer 2\n",
        "\n",
        "            dA2=dZ3.dot(W3.T)\n",
        "\n",
        "            dZ2=dA2*(1-A2**2)\n",
        "\n",
        "            dW2=(1/Batch_Size)*(A1.T).dot(dZ2)\n",
        "\n",
        "            assert(dW2.shape==W2.shape), \"Shape of dW2 and W2 does not match\"\n",
        "\n",
        "\n",
        "            dB2=(1/Batch_Size)*np.sum(dZ2,axis=0,keepdims=0)\n",
        "\n",
        "            # Layer 1\n",
        "\n",
        "            dA1=dZ2.dot(W2.T)\n",
        "\n",
        "            dZ1=dA1*(1-A1**2)\n",
        "\n",
        "            dW1=(1/Batch_Size)*(Min_X.T).dot(dZ1)\n",
        "\n",
        "            assert(dW1.shape==W1.shape), \"Shape of dW1 and W1 does not match\"\n",
        "\n",
        "            dB1=(1/Batch_Size)*np.sum(dZ1,axis=0,keepdims=0)\n",
        "\n",
        "\n",
        "\n",
        "            # Regularization\n",
        "\n",
        "            dW4+=lambda_*dW4\n",
        "            dW3+=lambda_*dW3\n",
        "            dW2+=lambda_*dW2\n",
        "            dW1+=lambda_*dW1\n",
        "\n",
        "            #Gradient Descent\n",
        "\n",
        "            W4-=Learning_Rate*dW4\n",
        "            W3-=Learning_Rate*dW3\n",
        "            W2-=Learning_Rate*dW2\n",
        "            W1-=Learning_Rate*dW1\n",
        "\n",
        "\n",
        "            # set model values \n",
        "\n",
        "        Model={\"W4\":W4,\"B4\":B4,\n",
        "            \"W3\":W3,\"B3\":B3,\n",
        "            \"W2\":W2,\"B2\":B2,\n",
        "            \"W1\":W1,\"B1\":B1\n",
        "              }\n",
        "        if Print_Loss and i%50==0:\n",
        "            loss=Calculate_Loss_Function(Model,X,y)\n",
        "            print(\"Loss after %i epoch is %f\"%(i,loss))\n",
        "\n",
        "            loss_dict[i]=loss\n",
        "    \n",
        "    loss=Calculate_Loss_Function(Model,X,y)\n",
        "    print(\"Loss after %i epoch is %f\"%(i,loss))\n",
        "\n",
        "    loss_dict[i]=loss\n",
        "    \n",
        "    return Model \n"
      ],
      "execution_count": 157,
      "outputs": []
    },
    {
      "cell_type": "markdown",
      "metadata": {
        "id": "Yud0aBf94mrg"
      },
      "source": [
        "## Main Function"
      ]
    },
    {
      "cell_type": "code",
      "metadata": {
        "id": "tpxkw0Dx4mrh"
      },
      "source": [
        "def Main():\n",
        "    Model=None\n",
        "    model=Train_Model(Layers,Model,X_train.values,y_train.values,Epoch,\n",
        "                      Batch_Size=32,Print_Loss=True)\n",
        "    print(\"Loss Graph\")\n",
        "    Show_Loss_Graph(loss_dict)\n",
        "    print(\"Training Data\")\n",
        "    train_y_pred,train_acc=Calculate_Accuracy_Update(model,X_train.values,y_train.values)\n",
        "    print(\"Testing Data\")\n",
        "    test_y_pred,test_acc=Calculate_Accuracy_Update(model,X_test.values,y_test.values)\n",
        "    \n",
        "\n",
        "    Save_Result(Layers,Learning_Rate,lambda_,Epoch,train_acc,test_acc)"
      ],
      "execution_count": 128,
      "outputs": []
    },
    {
      "cell_type": "code",
      "metadata": {
        "id": "3U2VEDK64mro"
      },
      "source": [
        "MNIST_Data=Import_Data()"
      ],
      "execution_count": 22,
      "outputs": []
    },
    {
      "cell_type": "code",
      "metadata": {
        "id": "Dg2CibQN4mru",
        "outputId": "4e85bb57-4a86-49c4-fc85-b70e5485c80e",
        "colab": {
          "base_uri": "https://localhost:8080/",
          "height": 278
        }
      },
      "source": [
        "Plot_Data(MNIST_Data)"
      ],
      "execution_count": 99,
      "outputs": [
        {
          "output_type": "display_data",
          "data": {
            "image/png": "[encoded data removed]",
            "text/plain": [
              "<Figure size 540x288 with 10 Axes>"
            ]
          },
          "metadata": {
            "tags": [],
            "needs_background": "light"
          }
        }
      ]
    },
    {
      "cell_type": "code",
      "metadata": {
        "id": "WQHObT1h4mr0"
      },
      "source": [
        "X_train,X_test,y_train,y_test =Train_Test(MNIST_Data.iloc[:,1:],MNIST_Data.iloc[:,0])"
      ],
      "execution_count": 100,
      "outputs": []
    },
    {
      "cell_type": "markdown",
      "metadata": {
        "id": "zwScCiCV4mr4"
      },
      "source": [
        "### Parameters and Result"
      ]
    },
    {
      "cell_type": "code",
      "metadata": {
        "id": "S53owkZvBA2V",
        "outputId": "47474839-6c03-4c55-b92f-94ad298c2a7b",
        "colab": {
          "base_uri": "https://localhost:8080/",
          "height": 517
        }
      },
      "source": [
        "# Updated \n",
        "features=MNIST_Data.columns\n",
        "loss_dict={}\n",
        "count=len(X_train)\n",
        "Layers=[5,5,4,10]\n",
        "Learning_Rate=0.01\n",
        "lambda_=0.0\n",
        "Epoch=30\n",
        "Main()"
      ],
      "execution_count": 129,
      "outputs": [
        {
          "output_type": "stream",
          "text": [
            "Loss after 0 epoch is 2.295971\n",
            "Loss after 5 epoch is 2.226708\n",
            "Loss after 10 epoch is 2.180825\n",
            "Loss after 15 epoch is 2.165370\n",
            "Loss after 20 epoch is 2.158039\n",
            "Loss after 25 epoch is 2.153568\n",
            "Loss after 29 epoch is 2.149459\n",
            "Loss Graph\n",
            "Starting Loss :  2.2959712167061617\n",
            "Ending Loss : 2.1494594457770115\n",
            "Training Data\n",
            "Testing Data\n",
            "Please Enter Remark : Demo\n",
            "Data Saved\n"
          ],
          "name": "stdout"
        },
        {
          "output_type": "display_data",
          "data": {
            "image/png": "[encoded data removed]",
            "text/plain": [
              "<Figure size 432x288 with 1 Axes>"
            ]
          },
          "metadata": {
            "tags": [],
            "needs_background": "light"
          }
        }
      ]
    },
    {
      "cell_type": "markdown",
      "metadata": {
        "id": "Vxvd2BRV4msE"
      },
      "source": [
        "### Parameters and Result"
      ]
    },
    {
      "cell_type": "code",
      "metadata": {
        "id": "H0HIJ94i4msF",
        "outputId": "f8720716-cea7-4116-9feb-9894bb766126",
        "colab": {
          "base_uri": "https://localhost:8080/",
          "height": 959
        }
      },
      "source": [
        "features=MNIST_Data.columns\n",
        "loss_dict={}\n",
        "count=len(X_train)\n",
        "Layers=[15,20,5,10]\n",
        "Learning_Rate=0.05\n",
        "lambda_=0.01\n",
        "Epoch=50\n",
        "Main()"
      ],
      "execution_count": 154,
      "outputs": [
        {
          "output_type": "stream",
          "text": [
            "Loss after 0 epoch is 2.136704\n",
            "Loss after 5 epoch is 1.880307\n",
            "Loss after 10 epoch is 1.790262\n",
            "Loss after 15 epoch is 1.740906\n",
            "Loss after 20 epoch is 1.714205\n",
            "Loss after 25 epoch is 1.696504\n",
            "Loss after 30 epoch is 1.681717\n",
            "Loss after 35 epoch is 1.662865\n",
            "Loss after 40 epoch is 1.649505\n",
            "Loss after 45 epoch is 1.643417\n",
            "Loss after 49 epoch is 1.643828\n",
            "Loss Graph\n",
            "Starting Loss :  2.1367043268372012\n",
            "Ending Loss : 1.6438277219333626\n",
            "Training Data\n",
            "Accuracy :  0.8705\n",
            "[[676   0   3  63   3   3  72   0   1   0]\n",
            " [  0 765  11   8   2   0   1   0   0   0]\n",
            " [  3   3 553   5 126   0  60   0   0   0]\n",
            " [  9   8   1 751  21   0  10   0   1   0]\n",
            " [  0   3  20  19 749   0  17   0   0   0]\n",
            " [  0   0   0   0   0 732   0  55   4   4]\n",
            " [ 79   2  88  61 165   0 424   1   0   0]\n",
            " [  0   0   0   0   0   1   0 808   1  10]\n",
            " [  0   0   1   3   5   0   3   1 769   2]\n",
            " [  0   0   0   0   0   0   0  77   0 737]]\n",
            "Testing Data\n",
            "Accuracy :  0.8165\n",
            "[[150   1   2  15   1   1  18   0   0   0]\n",
            " [  1 175   2   5   1   0   0   0   0   1]\n",
            " [  3   1 143   1  41   0  11   0   1   0]\n",
            " [  3   8   2 186  10   0   1   0   1   0]\n",
            " [  0   0   6   8 145   0  12   0   0   0]\n",
            " [  0   0   0   2   0 169   0  26   2  14]\n",
            " [ 30   0  26  19  45   0  79   0   3   0]\n",
            " [  0   0   0   0   0   4   0 209   2   2]\n",
            " [  0   0   0   2   8   2   1   3 173   1]\n",
            " [  0   0   0   0   0   4   1  13   0 204]]\n",
            "Please Enter Remark : Small set of Epoch\n",
            "Data Saved\n"
          ],
          "name": "stdout"
        },
        {
          "output_type": "display_data",
          "data": {
            "image/png": "[encoded data removed]",
            "text/plain": [
              "<Figure size 432x288 with 1 Axes>"
            ]
          },
          "metadata": {
            "tags": [],
            "needs_background": "light"
          }
        }
      ]
    },
    {
      "cell_type": "code",
      "metadata": {
        "id": "MS2gUOzD4msK",
        "outputId": "7df79a96-dba8-4918-a062-f10f156be30b",
        "colab": {
          "base_uri": "https://localhost:8080/",
          "height": 857
        }
      },
      "source": [
        "#Batch 32 \n",
        "features=MNIST_Data.columns\n",
        "loss_dict={}\n",
        "count=len(X_train)\n",
        "Layers=[8,10,15,10]\n",
        "Learning_Rate=0.01\n",
        "lambda_=0.01\n",
        "Epoch=200\n",
        "Main()"
      ],
      "execution_count": 158,
      "outputs": [
        {
          "output_type": "stream",
          "text": [
            "Loss after 0 epoch is 2.244603\n",
            "Loss after 50 epoch is 1.795972\n",
            "Loss after 100 epoch is 1.731818\n",
            "Loss after 150 epoch is 1.695152\n",
            "Loss after 199 epoch is 1.667242\n",
            "Loss Graph\n",
            "Starting Loss :  2.24460340471241\n",
            "Ending Loss : 1.6672422745681037\n",
            "Training Data\n",
            "Accuracy :  0.8585\n",
            "[[699  12   5  37   2   0  60   0   5   1]\n",
            " [ 17 758   1   9   0   0   2   0   0   0]\n",
            " [ 19   0 561   1 118   0  49   0   2   0]\n",
            " [ 17   9   6 706  13   0  50   0   0   0]\n",
            " [  2   1  44  27 668   0  63   0   3   0]\n",
            " [  0   0   1   0   0 736   0  23   3  32]\n",
            " [149   1 107  15 101   0 440   0   6   1]\n",
            " [  0   0   0   0   0  21   0 755   1  43]\n",
            " [  2   0   9   2   1   1  11   1 757   0]\n",
            " [  2   0   0   0   0   8   0  16   0 788]]\n",
            "Testing Data\n",
            "Accuracy :  0.785\n",
            "[[161   3   1   5   2   0  13   0   3   0]\n",
            " [  3 176   0   4   1   0   0   0   0   1]\n",
            " [  6   0 137   2  44   0  10   0   1   1]\n",
            " [ 10  14   2 172   7   0   4   0   2   0]\n",
            " [  1   0  20  13 129   0   8   0   0   0]\n",
            " [  1   0   3   0   0 164   0  12  11  22]\n",
            " [ 42   1  39   6  25   0  85   0   4   0]\n",
            " [  0   0   0   0   0  18   0 171   2  26]\n",
            " [  1   2   1   2   2   3  12   1 166   0]\n",
            " [  0   0   0   0   0   6   0   6   1 209]]\n",
            "Please Enter Remark : Increase Lamda\n",
            "Data Saved\n"
          ],
          "name": "stdout"
        },
        {
          "output_type": "display_data",
          "data": {
            "image/png": "[encoded data removed]",
            "text/plain": [
              "<Figure size 432x288 with 1 Axes>"
            ]
          },
          "metadata": {
            "tags": [],
            "needs_background": "light"
          }
        }
      ]
    },
    {
      "cell_type": "markdown",
      "metadata": {
        "id": "gMhgJS9Y4msQ"
      },
      "source": [
        "### Parameters and Result"
      ]
    },
    {
      "cell_type": "code",
      "metadata": {
        "id": "nLPxH-gV4msR",
        "outputId": "b9a5c80a-2faf-494a-c64d-732c4df51152",
        "colab": {
          "base_uri": "https://localhost:8080/",
          "height": 1000
        }
      },
      "source": [
        "features=MNIST_Data.columns\n",
        "loss_dict={}\n",
        "count=len(X_train)\n",
        "Layers=[25,20,15,10]\n",
        "Learning_Rate=0.05\n",
        "lambda_=0.001\n",
        "Epoch=300\n",
        "Main()"
      ],
      "execution_count": 155,
      "outputs": [
        {
          "output_type": "stream",
          "text": [
            "Loss after 0 epoch is 1.956923\n",
            "Loss after 5 epoch is 1.724754\n",
            "Loss after 10 epoch is 1.676029\n",
            "Loss after 15 epoch is 1.642869\n",
            "Loss after 20 epoch is 1.630628\n",
            "Loss after 25 epoch is 1.614728\n",
            "Loss after 30 epoch is 1.604507\n",
            "Loss after 35 epoch is 1.590708\n",
            "Loss after 40 epoch is 1.599536\n",
            "Loss after 45 epoch is 1.602120\n",
            "Loss after 50 epoch is 1.570819\n",
            "Loss after 55 epoch is 1.564760\n",
            "Loss after 60 epoch is 1.558054\n",
            "Loss after 65 epoch is 1.571224\n",
            "Loss after 70 epoch is 1.555890\n",
            "Loss after 75 epoch is 1.565212\n",
            "Loss after 80 epoch is 1.539607\n",
            "Loss after 85 epoch is 1.551109\n",
            "Loss after 90 epoch is 1.523100\n",
            "Loss after 95 epoch is 1.520647\n",
            "Loss after 100 epoch is 1.511897\n",
            "Loss after 105 epoch is 1.519970\n",
            "Loss after 110 epoch is 1.506717\n",
            "Loss after 115 epoch is 1.517770\n",
            "Loss after 120 epoch is 1.501469\n",
            "Loss after 125 epoch is 1.521493\n",
            "Loss after 130 epoch is 1.502740\n",
            "Loss after 135 epoch is 1.509469\n",
            "Loss after 140 epoch is 1.530678\n",
            "Loss after 145 epoch is 1.509635\n",
            "Loss after 150 epoch is 1.499222\n",
            "Loss after 155 epoch is 1.495130\n",
            "Loss after 160 epoch is 1.492308\n",
            "Loss after 165 epoch is 1.502270\n",
            "Loss after 170 epoch is 1.487722\n",
            "Loss after 175 epoch is 1.489378\n",
            "Loss after 180 epoch is 1.496154\n",
            "Loss after 185 epoch is 1.498590\n",
            "Loss after 190 epoch is 1.545151\n",
            "Loss after 195 epoch is 1.486362\n",
            "Loss after 200 epoch is 1.495775\n",
            "Loss after 205 epoch is 1.481287\n",
            "Loss after 210 epoch is 1.495468\n",
            "Loss after 215 epoch is 1.481288\n",
            "Loss after 220 epoch is 1.476800\n",
            "Loss after 225 epoch is 1.484730\n",
            "Loss after 230 epoch is 1.475441\n",
            "Loss after 235 epoch is 1.475290\n",
            "Loss after 240 epoch is 1.475465\n",
            "Loss after 245 epoch is 1.474500\n",
            "Loss after 250 epoch is 1.474599\n",
            "Loss after 255 epoch is 1.471327\n",
            "Loss after 260 epoch is 1.475270\n",
            "Loss after 265 epoch is 1.481836\n",
            "Loss after 270 epoch is 1.482746\n",
            "Loss after 275 epoch is 1.471020\n",
            "Loss after 280 epoch is 1.470479\n",
            "Loss after 285 epoch is 1.469712\n",
            "Loss after 290 epoch is 1.472936\n",
            "Loss after 295 epoch is 1.472154\n",
            "Loss after 299 epoch is 1.469186\n",
            "Loss Graph\n",
            "Starting Loss :  1.9569228757777037\n",
            "Ending Loss : 1.4691858720892408\n",
            "Training Data\n",
            "Accuracy :  0.9975\n",
            "[[817   0   0   2   0   0   1   0   1   0]\n",
            " [  0 787   0   0   0   0   0   0   0   0]\n",
            " [  0   0 748   0   1   0   1   0   0   0]\n",
            " [  0   0   0 799   2   0   0   0   0   0]\n",
            " [  0   0   2   0 805   0   1   0   0   0]\n",
            " [  0   0   0   0   0 795   0   0   0   0]\n",
            " [  4   0   1   0   3   0 812   0   0   0]\n",
            " [  0   0   0   0   0   0   0 819   0   1]\n",
            " [  0   0   0   0   0   0   0   0 784   0]\n",
            " [  0   0   0   0   0   0   0   0   0 814]]\n",
            "Testing Data\n",
            "Accuracy :  0.8295\n",
            "[[148   0   4   7   1   0  26   0   2   0]\n",
            " [  2 176   0   5   0   1   0   0   1   0]\n",
            " [  3   1 149   2  30   0  15   0   1   0]\n",
            " [ 19   5   4 167   9   0   5   0   2   0]\n",
            " [  0   2  16   6 140   1   6   0   0   0]\n",
            " [  1   0   0   0   0 192   0  12   3   5]\n",
            " [ 31   1  29   2  25   0 110   0   4   0]\n",
            " [  0   0   0   0   1   6   0 196   2  12]\n",
            " [  0   0   1   4   2   3   4   2 173   1]\n",
            " [  0   0   0   0   0   5   0   9   0 208]]\n",
            "Please Enter Remark : Overfitting\n",
            "Data Saved\n"
          ],
          "name": "stdout"
        },
        {
          "output_type": "display_data",
          "data": {
            "image/png": "[encoded data removed]",
            "text/plain": [
              "<Figure size 432x288 with 1 Axes>"
            ]
          },
          "metadata": {
            "tags": [],
            "needs_background": "light"
          }
        }
      ]
    },
    {
      "cell_type": "markdown",
      "metadata": {
        "id": "EyVuq3wD4msh"
      },
      "source": [
        "# Final Result"
      ]
    },
    {
      "cell_type": "code",
      "metadata": {
        "id": "JR8MvmAw4msi",
        "outputId": "4bda9a81-9e27-4e98-8e94-de083aae23d0",
        "colab": {
          "base_uri": "https://localhost:8080/",
          "height": 548
        }
      },
      "source": [
        "Result_df"
      ],
      "execution_count": 159,
      "outputs": [
        {
          "output_type": "execute_result",
          "data": {
            "text/html": [
              "<div>\n",
              "<style scoped>\n",
              "    .dataframe tbody tr th:only-of-type {\n",
              "        vertical-align: middle;\n",
              "    }\n",
              "\n",
              "    .dataframe tbody tr th {\n",
              "        vertical-align: top;\n",
              "    }\n",
              "\n",
              "    .dataframe thead th {\n",
              "        text-align: right;\n",
              "    }\n",
              "</style>\n",
              "<table border=\"1\" class=\"dataframe\">\n",
              "  <thead>\n",
              "    <tr style=\"text-align: right;\">\n",
              "      <th></th>\n",
              "      <th>Dimention of hidden layer</th>\n",
              "      <th>Learning Rate</th>\n",
              "      <th>Regularization</th>\n",
              "      <th>n_Epoch</th>\n",
              "      <th>Train_Accuracy</th>\n",
              "      <th>Test Accuracy</th>\n",
              "      <th>Comment</th>\n",
              "    </tr>\n",
              "  </thead>\n",
              "  <tbody>\n",
              "    <tr>\n",
              "      <th>0</th>\n",
              "      <td>[5, 5, 4, 10]</td>\n",
              "      <td>0.10</td>\n",
              "      <td>0.000</td>\n",
              "      <td>20</td>\n",
              "      <td>None</td>\n",
              "      <td>None</td>\n",
              "      <td>Demo</td>\n",
              "    </tr>\n",
              "    <tr>\n",
              "      <th>1</th>\n",
              "      <td>[5, 5, 4, 10]</td>\n",
              "      <td>0.10</td>\n",
              "      <td>0.000</td>\n",
              "      <td>30</td>\n",
              "      <td>None</td>\n",
              "      <td>None</td>\n",
              "      <td>Test</td>\n",
              "    </tr>\n",
              "    <tr>\n",
              "      <th>2</th>\n",
              "      <td>[5, 5, 4, 10]</td>\n",
              "      <td>0.01</td>\n",
              "      <td>0.000</td>\n",
              "      <td>30</td>\n",
              "      <td>None</td>\n",
              "      <td>None</td>\n",
              "      <td>Test</td>\n",
              "    </tr>\n",
              "    <tr>\n",
              "      <th>3</th>\n",
              "      <td>[5, 5, 4, 10]</td>\n",
              "      <td>0.01</td>\n",
              "      <td>0.000</td>\n",
              "      <td>30</td>\n",
              "      <td>None</td>\n",
              "      <td>None</td>\n",
              "      <td>Test</td>\n",
              "    </tr>\n",
              "    <tr>\n",
              "      <th>4</th>\n",
              "      <td>[5, 5, 4, 10]</td>\n",
              "      <td>0.01</td>\n",
              "      <td>0.000</td>\n",
              "      <td>50</td>\n",
              "      <td>None</td>\n",
              "      <td>None</td>\n",
              "      <td>Test</td>\n",
              "    </tr>\n",
              "    <tr>\n",
              "      <th>5</th>\n",
              "      <td>[5, 5, 4, 10]</td>\n",
              "      <td>0.01</td>\n",
              "      <td>0.000</td>\n",
              "      <td>30</td>\n",
              "      <td>None</td>\n",
              "      <td>None</td>\n",
              "      <td>Test</td>\n",
              "    </tr>\n",
              "    <tr>\n",
              "      <th>6</th>\n",
              "      <td>[5, 5, 4, 10]</td>\n",
              "      <td>0.01</td>\n",
              "      <td>0.000</td>\n",
              "      <td>30</td>\n",
              "      <td>0.3225</td>\n",
              "      <td>0.306</td>\n",
              "      <td>Demo</td>\n",
              "    </tr>\n",
              "    <tr>\n",
              "      <th>7</th>\n",
              "      <td>[50, 10, 15, 10]</td>\n",
              "      <td>0.03</td>\n",
              "      <td>0.000</td>\n",
              "      <td>500</td>\n",
              "      <td>1</td>\n",
              "      <td>0.841</td>\n",
              "      <td>Overfitting</td>\n",
              "    </tr>\n",
              "    <tr>\n",
              "      <th>8</th>\n",
              "      <td>[8, 10, 15, 10]</td>\n",
              "      <td>0.01</td>\n",
              "      <td>0.001</td>\n",
              "      <td>200</td>\n",
              "      <td>0.858125</td>\n",
              "      <td>0.785</td>\n",
              "      <td>With small set of Nodes</td>\n",
              "    </tr>\n",
              "    <tr>\n",
              "      <th>9</th>\n",
              "      <td>[5, 5, 4, 10]</td>\n",
              "      <td>0.01</td>\n",
              "      <td>0.001</td>\n",
              "      <td>1000</td>\n",
              "      <td>0.776125</td>\n",
              "      <td>0.6935</td>\n",
              "      <td>With 1000 Epoch</td>\n",
              "    </tr>\n",
              "    <tr>\n",
              "      <th>10</th>\n",
              "      <td>[15, 20, 10, 10]</td>\n",
              "      <td>0.05</td>\n",
              "      <td>0.000</td>\n",
              "      <td>300</td>\n",
              "      <td>0.982625</td>\n",
              "      <td>0.8225</td>\n",
              "      <td>Lambda = 0 and Learnig Rate =0.5</td>\n",
              "    </tr>\n",
              "    <tr>\n",
              "      <th>11</th>\n",
              "      <td>[10, 15, 5, 10]</td>\n",
              "      <td>0.05</td>\n",
              "      <td>0.001</td>\n",
              "      <td>300</td>\n",
              "      <td>0.937</td>\n",
              "      <td>0.8065</td>\n",
              "      <td>lamda 0.001</td>\n",
              "    </tr>\n",
              "    <tr>\n",
              "      <th>12</th>\n",
              "      <td>[15, 20, 5, 10]</td>\n",
              "      <td>0.05</td>\n",
              "      <td>0.010</td>\n",
              "      <td>50</td>\n",
              "      <td>0.8705</td>\n",
              "      <td>0.8165</td>\n",
              "      <td>Small set of Epoch</td>\n",
              "    </tr>\n",
              "    <tr>\n",
              "      <th>13</th>\n",
              "      <td>[25, 20, 15, 10]</td>\n",
              "      <td>0.05</td>\n",
              "      <td>0.001</td>\n",
              "      <td>300</td>\n",
              "      <td>0.9975</td>\n",
              "      <td>0.8295</td>\n",
              "      <td>Overfitting</td>\n",
              "    </tr>\n",
              "    <tr>\n",
              "      <th>14</th>\n",
              "      <td>[8, 10, 15, 10]</td>\n",
              "      <td>0.01</td>\n",
              "      <td>0.010</td>\n",
              "      <td>200</td>\n",
              "      <td>0.8585</td>\n",
              "      <td>0.785</td>\n",
              "      <td>Increase Lamda</td>\n",
              "    </tr>\n",
              "  </tbody>\n",
              "</table>\n",
              "</div>"
            ],
            "text/plain": [
              "   Dimention of hidden layer  ...                           Comment\n",
              "0              [5, 5, 4, 10]  ...                              Demo\n",
              "1              [5, 5, 4, 10]  ...                              Test\n",
              "2              [5, 5, 4, 10]  ...                              Test\n",
              "3              [5, 5, 4, 10]  ...                              Test\n",
              "4              [5, 5, 4, 10]  ...                              Test\n",
              "5              [5, 5, 4, 10]  ...                              Test\n",
              "6              [5, 5, 4, 10]  ...                              Demo\n",
              "7           [50, 10, 15, 10]  ...                       Overfitting\n",
              "8            [8, 10, 15, 10]  ...           With small set of Nodes\n",
              "9              [5, 5, 4, 10]  ...                   With 1000 Epoch\n",
              "10          [15, 20, 10, 10]  ...  Lambda = 0 and Learnig Rate =0.5\n",
              "11           [10, 15, 5, 10]  ...                       lamda 0.001\n",
              "12           [15, 20, 5, 10]  ...                Small set of Epoch\n",
              "13          [25, 20, 15, 10]  ...                       Overfitting\n",
              "14           [8, 10, 15, 10]  ...                    Increase Lamda\n",
              "\n",
              "[15 rows x 7 columns]"
            ]
          },
          "metadata": {
            "tags": []
          },
          "execution_count": 159
        }
      ]
    }
  ]
}